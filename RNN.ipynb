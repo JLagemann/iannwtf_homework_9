{
  "nbformat": 4,
  "nbformat_minor": 0,
  "metadata": {
    "colab": {
      "name": "RNN.ipynb",
      "provenance": []
    },
    "kernelspec": {
      "name": "python3",
      "display_name": "Python 3"
    },
    "accelerator": "GPU"
  },
  "cells": [
    {
      "cell_type": "code",
      "metadata": {
        "id": "3qwsvReDeXO7"
      },
      "source": [
        "import numpy as np\n",
        "import random\n",
        "%tensorflow_version 2.x\n",
        "import tensorflow as tf\n",
        "import matplotlib.pyplot as plt\n",
        "import tensorflow_datasets as tfds\n",
        "from tensorflow.keras import layers\n",
        "import time"
      ],
      "execution_count": 1,
      "outputs": []
    },
    {
      "cell_type": "code",
      "metadata": {
        "id": "xuY2YOB5fsdb"
      },
      "source": [
        "def digit_counter(sequence, context): \n",
        "  count_0 = np.count_nonzero(sequence == context[0])\n",
        "  count_1 = np.count_nonzero(sequence == context[1])\n",
        "  if count_0 > count_1: \n",
        "    return 0\n",
        "  elif count_1 > count_0: \n",
        "    return 1 \n",
        "  else: \n",
        "    return 0.5\n",
        "\n",
        "\n",
        "def one_hotify(digit): \n",
        "  return np.eye(10)[digit]"
      ],
      "execution_count": 2,
      "outputs": []
    },
    {
      "cell_type": "code",
      "metadata": {
        "id": "_6KYANg-gcaD"
      },
      "source": [
        "def gen_seq( size = 1000, seq_size = 25): \n",
        "\n",
        "  for _ in range(size): \n",
        "    seq = np.array(0)\n",
        "\n",
        "    sequence = np.zeros((seq_size,30))\n",
        "    results = np.zeros((seq_size , 1))\n",
        "\n",
        "\n",
        "    for i in range(seq_size -1): \n",
        "      element = np.random.randint(0,9)\n",
        "      seq = np.append(sequence, element)\n",
        "\n",
        "      context = random.sample(range(0,10),2)\n",
        "      results[i+1,:] = digit_counter(sequence, context)\n",
        "      sequence[i+1,:] = np.array([one_hotify(context[0]), one_hotify(context[1]), one_hotify(element)]).reshape(-1)\n",
        "      \n",
        "\n",
        "    yield sequence, results"
      ],
      "execution_count": 3,
      "outputs": []
    },
    {
      "cell_type": "code",
      "metadata": {
        "id": "wi5Tb6GPhIhU"
      },
      "source": [
        "train_data = tf.data.Dataset.from_generator(gen_seq, (tf.float32, tf.float32), args = [1000, 25])\n",
        "test_data = tf.data.Dataset.from_generator(gen_seq, (tf.float32, tf.float32), args = [100, 25])"
      ],
      "execution_count": 4,
      "outputs": []
    },
    {
      "cell_type": "code",
      "metadata": {
        "id": "r6fsiyADMpoB"
      },
      "source": [
        "# batch_size = 64\n",
        "buffer_size = 60000"
      ],
      "execution_count": 5,
      "outputs": []
    },
    {
      "cell_type": "code",
      "metadata": {
        "id": "Sj4Dh_R55KC9"
      },
      "source": [
        "# lstm cell \n",
        "\n",
        "\n",
        "class lstm_cell(tf.keras.layers.Layer): \n",
        "\n",
        "  # hat nicht funktioniert, wenn LT_Size =/= ST_Size\n",
        "  def __init__(self, LT_Size = 100, ST_Size = 100): \n",
        "    super().__init__()\n",
        "\n",
        "\n",
        "    # layers for forget gate\n",
        "    self.dense_forget = layers.Dense(units = LT_Size, activation = 'sigmoid', input_shape = (1,100))\n",
        "  \n",
        "    # layers for input gate\n",
        "    self.dense_input = layers.Dense(units = LT_Size, activation = 'sigmoid')\n",
        "\n",
        "    # cell state candidates \n",
        "    self.dense_cell_state = layers.Dense(units = LT_Size, activation = 'tanh')\n",
        "\n",
        "    # cell state candidates \n",
        "    self.dense_output = layers.Dense(units = LT_Size, activation = 'sigmoid')\n",
        "\n",
        "\n",
        "\n",
        "  def call(self, input, hidden_state, cell_state): \n",
        "\n",
        "    # input = tf.expand_dims(input, 1)\n",
        "    # input = tf.expand_dims(tf.concat([hidden_state,input], 1),1)\n",
        "    input = tf.concat([hidden_state,input], 1)\n",
        "\n",
        "    # print(\"input: \", input.shape) \n",
        "\n",
        "    f_t = self.dense_forget(input)\n",
        "     # print(\"f_t: \", f_t.shape)\n",
        "\n",
        "\n",
        "\n",
        "    i_t = self.dense_input(input)\n",
        "    # print(\"i_t: \", i_t.shape)\n",
        "\n",
        "    candidates = self.dense_cell_state(input)\n",
        "    # print(\"candidates: \", candidates.shape)\n",
        "\n",
        "    cell_state = tf.math.multiply(f_t, cell_state) + tf.math.multiply(i_t, candidates)\n",
        "\n",
        "    o_t = self.dense_output(input)\n",
        "\n",
        "    hidden_state = tf.math.multiply(o_t, tf.keras.activations.tanh(cell_state))\n",
        "\n",
        "    return hidden_state, cell_state\n",
        "\n",
        "\n"
      ],
      "execution_count": 6,
      "outputs": []
    },
    {
      "cell_type": "code",
      "metadata": {
        "id": "Rl6csopJCbfd"
      },
      "source": [
        "#model\n",
        "class rnn_model(tf.keras.Model):   \n",
        "  \n",
        "  def __init__(self, LT_Size = 100, ST_Size = 100, ): \n",
        "    super().__init__()\n",
        "\n",
        "    self.read_in = layers.Dense(30, activation = 'sigmoid', input_shape = (26, 30))    \n",
        "    self.lstm_cell = lstm_cell()\n",
        "    self.lstm_cell_2 = lstm_cell()\n",
        "\n",
        "    self.flatten = layers.Flatten(), \n",
        "    self.dense = layers.Dense(1)\n",
        "\n",
        "    # Memory states\n",
        "\n",
        "\n",
        "    self.cell_state = tf.zeros((1, LT_Size))\n",
        "    self.hidden_state = tf.zeros((1 ,ST_Size))\n",
        "    self.cell_state_2 = tf.zeros((1, LT_Size))\n",
        "    self.hidden_state_2 = tf.zeros((1 ,ST_Size))\n",
        "\n",
        "  def call(self, input, seq_len = 25): \n",
        "\n",
        "    input = self.read_in(input)\n",
        "\n",
        "    outputs = []\n",
        "\n",
        "    # unroll \n",
        "    for t in tf.range(seq_len):\n",
        "\n",
        "      time_stemp = tf.expand_dims(input[t,:], 0) \n",
        "      # print(time_stemp.shape)\n",
        "      self.hidden_state, self.cell_state = self.lstm_cell(time_stemp, self.hidden_state, self.cell_state)\n",
        "      #outputs.append(tf.reshape(self.hidden_state,[-1]))\n",
        "\n",
        "      self.hidden_state_2, self.cell_state_2 = self.lstm_cell_2(self.hidden_state, self.hidden_state_2, self.cell_state_2)\n",
        "      outputs.append(tf.reshape(self.hidden_state_2,[-1]))\n",
        "\n",
        "    x = tf.convert_to_tensor(outputs)\n",
        "    #x = self.flatten(x)\n",
        "    # print(x.shape)\n",
        "    x = self.dense(x)\n",
        "\n",
        "    return x "
      ],
      "execution_count": 7,
      "outputs": []
    },
    {
      "cell_type": "code",
      "metadata": {
        "id": "SYbwYIfuy9Fn"
      },
      "source": [
        "model = rnn_model()"
      ],
      "execution_count": 8,
      "outputs": []
    },
    {
      "cell_type": "code",
      "metadata": {
        "id": "eN0MXVlPAfv6"
      },
      "source": [
        "\n",
        "def train_step(model, input, target, loss_function, optimizer):\n",
        "  # loss_object and optimizer_object are instances of respective tensorflow classes\n",
        "  with tf.GradientTape() as tape:\n",
        "    prediction = model(input)\n",
        "    loss = loss_function(target, prediction)\n",
        "    gradients = tape.gradient(loss, model.trainable_variables)\n",
        "  optimizer.apply_gradients(zip(gradients, model.trainable_variables))\n",
        "  return loss \n",
        "\n",
        "def test(model, test_data, loss_function):\n",
        "  # test over complete test data\n",
        "\n",
        "  test_accuracy_aggregator = []\n",
        "  test_loss_aggregator = []\n",
        "\n",
        "  for (input, target) in test_data:\n",
        "    prediction = model(input)\n",
        "    sample_test_loss = loss_function(target, prediction)\n",
        "    sample_test_accuracy = np.mean(abs(target - prediction)) < 0.5\n",
        "    test_loss_aggregator.append(sample_test_loss.numpy())\n",
        "    test_accuracy_aggregator.append(np.mean(sample_test_accuracy))\n",
        "\n",
        "  test_loss = np.mean(test_loss_aggregator)\n",
        "  test_accuracy = np.mean(test_accuracy_aggregator)\n",
        "\n",
        "  return test_loss, test_accuracy\n"
      ],
      "execution_count": 9,
      "outputs": []
    },
    {
      "cell_type": "code",
      "metadata": {
        "colab": {
          "base_uri": "https://localhost:8080/"
        },
        "id": "I9f8BIP6AL5I",
        "outputId": "580e39f6-2a3c-4990-db12-5caaa3b6e2dd"
      },
      "source": [
        "# %%time\n",
        "tf.keras.backend.clear_session()\n",
        "\n",
        "### Hyperparameters\n",
        "num_epochs = 5\n",
        "learning_rate = 0.00001\n",
        "running_average_factor = 0.95\n",
        "\n",
        "# Initialize the model.\n",
        "model = rnn_model()\n",
        "# Initialize the loss: categorical cross entropy. Check out 'tf.keras.losses'.\n",
        "binary_cross_entropy_loss = tf.keras.losses.BinaryCrossentropy()\n",
        "# Initialize the optimizer: Adam with default parameters. Check out 'tf.keras.optimizers'\n",
        "optimizer = tf.keras.optimizers.Adam(learning_rate)\n",
        "\n",
        "# Initialize lists for later visualization.\n",
        "train_losses = []\n",
        "\n",
        "test_losses = []\n",
        "test_accuracies = []\n",
        "\n",
        "#testing once before we begin\n",
        "test_loss, test_accuracy = test(model, test_data, binary_cross_entropy_loss)\n",
        "test_losses.append(test_loss)\n",
        "test_accuracies.append(test_accuracy)\n",
        "\n",
        "#check how model performs on train data once before we begin\n",
        "train_loss, _ = test(model, train_data, binary_cross_entropy_loss)\n",
        "train_losses.append(train_loss)\n",
        "\n",
        "# We train for num_epochs epochs.\n",
        "for epoch in range(num_epochs):\n",
        "    print('Epoch: __ ' + str(epoch))\n",
        "\n",
        "    #training (and checking in with training)\n",
        "    running_average = 0\n",
        "    for (input,target) in train_data:\n",
        "        train_loss = train_step(model, input, target, binary_cross_entropy_loss, optimizer)\n",
        "        running_average = running_average_factor * running_average  + (1 - running_average_factor) * train_loss\n",
        "    train_losses.append(running_average)\n",
        "\n",
        "    #testing\n",
        "    test_loss, test_accuracy = test(model, test_data, binary_cross_entropy_loss)\n",
        "    test_losses.append(test_loss)\n",
        "    test_accuracies.append(test_accuracy)"
      ],
      "execution_count": 10,
      "outputs": [
        {
          "output_type": "stream",
          "text": [
            "Epoch: __ 0\n",
            "Epoch: __ 1\n",
            "Epoch: __ 2\n",
            "Epoch: __ 3\n",
            "Epoch: __ 4\n"
          ],
          "name": "stdout"
        }
      ]
    },
    {
      "cell_type": "code",
      "metadata": {
        "colab": {
          "base_uri": "https://localhost:8080/",
          "height": 541
        },
        "id": "FuHlTzW3cNT_",
        "outputId": "0f3b1123-ee7d-4669-8905-269fa3f53ccd"
      },
      "source": [
        "# Visualize accuracy and loss for training and test data. \n",
        "# One plot training and test loss.\n",
        "# One plot training and test accuracy.\n",
        "plt.figure()\n",
        "line1, = plt.plot(train_losses)\n",
        "line2, = plt.plot(test_losses)\n",
        "plt.xlabel(\"Training steps\")\n",
        "plt.ylabel(\"Loss\")\n",
        "plt.legend((line1,line2),(\"training\",\"test\"))\n",
        "plt.show()\n",
        "\n",
        "plt.figure()\n",
        "line1, = plt.plot(test_accuracies)\n",
        "plt.xlabel(\"Training steps\")\n",
        "plt.ylabel(\"Accuracy\")\n",
        "plt.show()"
      ],
      "execution_count": 11,
      "outputs": [
        {
          "output_type": "display_data",
          "data": {
            "image/png": "[encoded data removed]",
            "text/plain": [
              "<Figure size 432x288 with 1 Axes>"
            ]
          },
          "metadata": {
            "tags": [],
            "needs_background": "light"
          }
        },
        {
          "output_type": "display_data",
          "data": {
            "image/png": "[encoded data removed]",
            "text/plain": [
              "<Figure size 432x288 with 1 Axes>"
            ]
          },
          "metadata": {
            "tags": [],
            "needs_background": "light"
          }
        }
      ]
    },
    {
      "cell_type": "code",
      "metadata": {
        "colab": {
          "base_uri": "https://localhost:8080/",
          "height": 510
        },
        "id": "7hbxoGcOGd0N",
        "outputId": "ad608ad3-3cc7-4e74-83cf-875063a0a8df"
      },
      "source": [
        "model.summary()"
      ],
      "execution_count": 12,
      "outputs": [
        {
          "output_type": "stream",
          "text": [
            "Model: \"rnn_model\"\n",
            "_________________________________________________________________\n",
            "Layer (type)                 Output Shape              Param #   \n",
            "=================================================================\n",
            "dense (Dense)                multiple                  930       \n",
            "_________________________________________________________________\n",
            "lstm_cell (lstm_cell)        multiple                  52400     \n",
            "_________________________________________________________________\n",
            "lstm_cell_1 (lstm_cell)      multiple                  80400     \n",
            "_________________________________________________________________\n"
          ],
          "name": "stdout"
        },
        {
          "output_type": "error",
          "ename": "ValueError",
          "evalue": "ignored",
          "traceback": [
            "\u001b[0;31m---------------------------------------------------------------------------\u001b[0m",
            "\u001b[0;31mValueError\u001b[0m                                Traceback (most recent call last)",
            "\u001b[0;32m<ipython-input-12-5f15418b3570>\u001b[0m in \u001b[0;36m<module>\u001b[0;34m()\u001b[0m\n\u001b[0;32m----> 1\u001b[0;31m \u001b[0mmodel\u001b[0m\u001b[0;34m.\u001b[0m\u001b[0msummary\u001b[0m\u001b[0;34m(\u001b[0m\u001b[0;34m)\u001b[0m\u001b[0;34m\u001b[0m\u001b[0;34m\u001b[0m\u001b[0m\n\u001b[0m",
            "\u001b[0;32m/usr/local/lib/python3.6/dist-packages/tensorflow/python/keras/engine/training.py\u001b[0m in \u001b[0;36msummary\u001b[0;34m(self, line_length, positions, print_fn)\u001b[0m\n\u001b[1;32m   2382\u001b[0m                               \u001b[0mline_length\u001b[0m\u001b[0;34m=\u001b[0m\u001b[0mline_length\u001b[0m\u001b[0;34m,\u001b[0m\u001b[0;34m\u001b[0m\u001b[0;34m\u001b[0m\u001b[0m\n\u001b[1;32m   2383\u001b[0m                               \u001b[0mpositions\u001b[0m\u001b[0;34m=\u001b[0m\u001b[0mpositions\u001b[0m\u001b[0;34m,\u001b[0m\u001b[0;34m\u001b[0m\u001b[0;34m\u001b[0m\u001b[0m\n\u001b[0;32m-> 2384\u001b[0;31m                               print_fn=print_fn)\n\u001b[0m\u001b[1;32m   2385\u001b[0m \u001b[0;34m\u001b[0m\u001b[0m\n\u001b[1;32m   2386\u001b[0m   \u001b[0;34m@\u001b[0m\u001b[0mproperty\u001b[0m\u001b[0;34m\u001b[0m\u001b[0;34m\u001b[0m\u001b[0m\n",
            "\u001b[0;32m/usr/local/lib/python3.6/dist-packages/tensorflow/python/keras/utils/layer_utils.py\u001b[0m in \u001b[0;36mprint_summary\u001b[0;34m(model, line_length, positions, print_fn)\u001b[0m\n\u001b[1;32m    250\u001b[0m   \u001b[0;32mfor\u001b[0m \u001b[0mi\u001b[0m \u001b[0;32min\u001b[0m \u001b[0mrange\u001b[0m\u001b[0;34m(\u001b[0m\u001b[0mlen\u001b[0m\u001b[0;34m(\u001b[0m\u001b[0mlayers\u001b[0m\u001b[0;34m)\u001b[0m\u001b[0;34m)\u001b[0m\u001b[0;34m:\u001b[0m\u001b[0;34m\u001b[0m\u001b[0;34m\u001b[0m\u001b[0m\n\u001b[1;32m    251\u001b[0m     \u001b[0;32mif\u001b[0m \u001b[0msequential_like\u001b[0m\u001b[0;34m:\u001b[0m\u001b[0;34m\u001b[0m\u001b[0;34m\u001b[0m\u001b[0m\n\u001b[0;32m--> 252\u001b[0;31m       \u001b[0mprint_layer_summary\u001b[0m\u001b[0;34m(\u001b[0m\u001b[0mlayers\u001b[0m\u001b[0;34m[\u001b[0m\u001b[0mi\u001b[0m\u001b[0;34m]\u001b[0m\u001b[0;34m)\u001b[0m\u001b[0;34m\u001b[0m\u001b[0;34m\u001b[0m\u001b[0m\n\u001b[0m\u001b[1;32m    253\u001b[0m     \u001b[0;32melse\u001b[0m\u001b[0;34m:\u001b[0m\u001b[0;34m\u001b[0m\u001b[0;34m\u001b[0m\u001b[0m\n\u001b[1;32m    254\u001b[0m       \u001b[0mprint_layer_summary_with_connections\u001b[0m\u001b[0;34m(\u001b[0m\u001b[0mlayers\u001b[0m\u001b[0;34m[\u001b[0m\u001b[0mi\u001b[0m\u001b[0;34m]\u001b[0m\u001b[0;34m)\u001b[0m\u001b[0;34m\u001b[0m\u001b[0;34m\u001b[0m\u001b[0m\n",
            "\u001b[0;32m/usr/local/lib/python3.6/dist-packages/tensorflow/python/keras/utils/layer_utils.py\u001b[0m in \u001b[0;36mprint_layer_summary\u001b[0;34m(layer)\u001b[0m\n\u001b[1;32m    208\u001b[0m     \u001b[0mname\u001b[0m \u001b[0;34m=\u001b[0m \u001b[0mlayer\u001b[0m\u001b[0;34m.\u001b[0m\u001b[0mname\u001b[0m\u001b[0;34m\u001b[0m\u001b[0;34m\u001b[0m\u001b[0m\n\u001b[1;32m    209\u001b[0m     \u001b[0mcls_name\u001b[0m \u001b[0;34m=\u001b[0m \u001b[0mlayer\u001b[0m\u001b[0;34m.\u001b[0m\u001b[0m__class__\u001b[0m\u001b[0;34m.\u001b[0m\u001b[0m__name__\u001b[0m\u001b[0;34m\u001b[0m\u001b[0;34m\u001b[0m\u001b[0m\n\u001b[0;32m--> 210\u001b[0;31m     \u001b[0mfields\u001b[0m \u001b[0;34m=\u001b[0m \u001b[0;34m[\u001b[0m\u001b[0mname\u001b[0m \u001b[0;34m+\u001b[0m \u001b[0;34m' ('\u001b[0m \u001b[0;34m+\u001b[0m \u001b[0mcls_name\u001b[0m \u001b[0;34m+\u001b[0m \u001b[0;34m')'\u001b[0m\u001b[0;34m,\u001b[0m \u001b[0moutput_shape\u001b[0m\u001b[0;34m,\u001b[0m \u001b[0mlayer\u001b[0m\u001b[0;34m.\u001b[0m\u001b[0mcount_params\u001b[0m\u001b[0;34m(\u001b[0m\u001b[0;34m)\u001b[0m\u001b[0;34m]\u001b[0m\u001b[0;34m\u001b[0m\u001b[0;34m\u001b[0m\u001b[0m\n\u001b[0m\u001b[1;32m    211\u001b[0m     \u001b[0mprint_row\u001b[0m\u001b[0;34m(\u001b[0m\u001b[0mfields\u001b[0m\u001b[0;34m,\u001b[0m \u001b[0mpositions\u001b[0m\u001b[0;34m)\u001b[0m\u001b[0;34m\u001b[0m\u001b[0;34m\u001b[0m\u001b[0m\n\u001b[1;32m    212\u001b[0m \u001b[0;34m\u001b[0m\u001b[0m\n",
            "\u001b[0;32m/usr/local/lib/python3.6/dist-packages/tensorflow/python/keras/engine/base_layer.py\u001b[0m in \u001b[0;36mcount_params\u001b[0;34m(self)\u001b[0m\n\u001b[1;32m   2206\u001b[0m                          \u001b[0;34m', but the layer isn\\'t built. '\u001b[0m\u001b[0;34m\u001b[0m\u001b[0;34m\u001b[0m\u001b[0m\n\u001b[1;32m   2207\u001b[0m                          \u001b[0;34m'You can build it manually via: `'\u001b[0m \u001b[0;34m+\u001b[0m \u001b[0mself\u001b[0m\u001b[0;34m.\u001b[0m\u001b[0mname\u001b[0m \u001b[0;34m+\u001b[0m\u001b[0;34m\u001b[0m\u001b[0;34m\u001b[0m\u001b[0m\n\u001b[0;32m-> 2208\u001b[0;31m                          '.build(batch_input_shape)`.')\n\u001b[0m\u001b[1;32m   2209\u001b[0m     \u001b[0;32mreturn\u001b[0m \u001b[0mlayer_utils\u001b[0m\u001b[0;34m.\u001b[0m\u001b[0mcount_params\u001b[0m\u001b[0;34m(\u001b[0m\u001b[0mself\u001b[0m\u001b[0;34m.\u001b[0m\u001b[0mweights\u001b[0m\u001b[0;34m)\u001b[0m\u001b[0;34m\u001b[0m\u001b[0;34m\u001b[0m\u001b[0m\n\u001b[1;32m   2210\u001b[0m \u001b[0;34m\u001b[0m\u001b[0m\n",
            "\u001b[0;31mValueError\u001b[0m: You tried to call `count_params` on flatten, but the layer isn't built. You can build it manually via: `flatten.build(batch_input_shape)`."
          ]
        }
      ]
    },
    {
      "cell_type": "code",
      "metadata": {
        "id": "U-u7cbjBWSwe"
      },
      "source": [
        ""
      ],
      "execution_count": null,
      "outputs": []
    }
  ]
}